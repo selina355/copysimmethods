{
 "cells": [
  {
   "cell_type": "code",
   "execution_count": 25,
   "metadata": {},
   "outputs": [],
   "source": [
    "import numpy as np\n",
    "import matplotlib.pyplot as plt\n",
    "import csv\n",
    "from matplotlib.offsetbox import AnchoredText\n",
    "import scipy.optimize\n",
    "import pandas as pd\n",
    "from IPython.display import clear_output\n",
    "from time import sleep\n",
    "\n"
   ]
  },
  {
   "cell_type": "code",
   "execution_count": 26,
   "metadata": {},
   "outputs": [],
   "source": [
    "#read in the data from csv file\n",
    "data = []\n",
    "with open('exercise7_sim_animation.csv') as csvfile:\n",
    "    contents= csv.reader(csvfile, delimiter=\";\")\n",
    "    next(contents)#skip header line\n",
    "    for row in contents:\n",
    "        array= np.asarray(row).astype('int')\n",
    "        data.append(np.reshape(array,(50,50)))\n"
   ]
  },
  {
   "cell_type": "code",
   "execution_count": 28,
   "metadata": {},
   "outputs": [
    {
     "data": {
      "image/png": "[encoded data removed]",
      "text/plain": [
       "<Figure size 640x480 with 1 Axes>"
      ]
     },
     "metadata": {},
     "output_type": "display_data"
    }
   ],
   "source": [
    "\n",
    "for i in range(len(data)):\n",
    "\n",
    "    plt.imshow(data[i])\n",
    "    plt.show()\n",
    "\n",
    "    sleep(0.001)\n",
    "    clear_output(wait=True)"
   ]
  },
  {
   "cell_type": "code",
   "execution_count": null,
   "metadata": {},
   "outputs": [],
   "source": [
    "\n",
    "for i in range(10000):\n",
    "\n",
    "    plt.imshow(data[i])\n",
    "    plt.show()\n",
    "\n",
    "    sleep(0.1)\n",
    "    clear_output(wait)"
   ]
  },
  {
   "cell_type": "code",
   "execution_count": null,
   "metadata": {},
   "outputs": [],
   "source": []
  },
  {
   "cell_type": "code",
   "execution_count": null,
   "metadata": {},
   "outputs": [],
   "source": []
  },
  {
   "cell_type": "code",
   "execution_count": null,
   "metadata": {},
   "outputs": [],
   "source": [
    "\n",
    "for i in range(10000):\n",
    "\n",
    "    plt.imshow(data[i])\n",
    "    plt.show()\n",
    "\n",
    "    sleep(0.1)\n",
    "    clear_output(wait)"
   ]
  }
 ],
 "metadata": {
  "kernelspec": {
   "display_name": "sim_methods-env",
   "language": "python",
   "name": "python3"
  },
  "language_info": {
   "codemirror_mode": {
    "name": "ipython",
    "version": 3
   },
   "file_extension": ".py",
   "mimetype": "text/x-python",
   "name": "python",
   "nbconvert_exporter": "python",
   "pygments_lexer": "ipython3",
   "version": "3.10.12"
  }
 },
 "nbformat": 4,
 "nbformat_minor": 2
}
